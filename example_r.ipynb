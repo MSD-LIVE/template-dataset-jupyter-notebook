{
 "cells": [
  {
   "cell_type": "code",
   "execution_count": null,
   "id": "97eef74a",
   "metadata": {},
   "outputs": [],
   "source": [
    "# Install dependencies: \n",
    "install.packages(\"ggplot2\")"
   ]
  },
  {
   "cell_type": "code",
   "execution_count": null,
   "id": "8042f74b",
   "metadata": {},
   "outputs": [],
   "source": [
    "# List contents of dataset's data dir\n","files <- system(paste(\"ls -alh\", Sys.getenv(\"DATA_DIR\")), intern = TRUE)\n","print(files)"
   ]
  }
 ],
 "metadata": {
  "language_info": {
   "name": "python"
  }
 },
 "nbformat": 4,
 "nbformat_minor": 5
}
